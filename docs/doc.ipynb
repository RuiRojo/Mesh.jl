{
 "cells": [
  {
   "cell_type": "markdown",
   "metadata": {},
   "source": [
    "# Initialización"
   ]
  },
  {
   "cell_type": "code",
   "execution_count": 1,
   "metadata": {},
   "outputs": [
    {
     "data": {
      "text/plain": [
       "Main.Mesh"
      ]
     },
     "execution_count": 1,
     "metadata": {},
     "output_type": "execute_result"
    }
   ],
   "source": [
    "# Inicialización: correr una sola vez\n",
    "cd(\"..\")\n",
    "import Pkg\n",
    "Pkg.activate(\".\")\n",
    "include(\"src/Mesh.jl\");"
   ]
  },
  {
   "cell_type": "markdown",
   "metadata": {},
   "source": [
    "# Tipos de dato\n",
    "\n",
    "## Vértice: `Vertex`\n",
    "\n",
    "Es un alias de `SVector{3, Float32}`\n",
    "\n",
    "## Mesh: `AbstractMesh{FACE} <: AbstractVector{FACE}`\n",
    "\n",
    "Representa una mesh e implementa\n",
    "\n",
    "* `vertices`: devuelve un `Vector{Vertex}`\n",
    "\n",
    "## Cara: `AbstractFace <: AbstractVector{Vertex}`\n",
    "\n",
    "* `vertices`: devuelve un `NTuple{N, Vertex} where N`\n",
    "\n",
    "## Arista: `AbstractEdge <: AbstractVector{Vertex}`\n",
    "\n",
    "* `vertices`: devuelve un `NTuple{2, Vertex}`\n",
    "* `adjacent`: devuelve caras adjacentes"
   ]
  }
 ],
 "metadata": {
  "kernelspec": {
   "display_name": "Julia 1.0.0",
   "language": "julia",
   "name": "julia-1.0"
  },
  "language_info": {
   "file_extension": ".jl",
   "mimetype": "application/julia",
   "name": "julia",
   "version": "1.0.0"
  }
 },
 "nbformat": 4,
 "nbformat_minor": 2
}
